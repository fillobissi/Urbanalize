{
 "cells": [
  {
   "cell_type": "markdown",
   "id": "0b61c8e1-5f80-430a-aac5-25232ed0d5d1",
   "metadata": {},
   "source": [
    "# URBANALIZE - OSM STATISTICS LIBRARY DEVELOPMENT"
   ]
  },
  {
   "cell_type": "markdown",
   "id": "0c79ff11-1249-4325-8ecd-df7293a32954",
   "metadata": {},
   "source": [
    "## 01 - Library testing"
   ]
  },
  {
   "cell_type": "markdown",
   "id": "c374754d-8e08-4cbe-acf3-263e19c57c83",
   "metadata": {},
   "source": [
    "#### Unittest"
   ]
  },
  {
   "cell_type": "code",
   "execution_count": 24,
   "id": "a00ee339-f566-4ea3-8149-f4bc874b9ed6",
   "metadata": {
    "scrolled": true
   },
   "outputs": [
    {
     "name": "stdout",
     "output_type": "stream",
     "text": [
      "\n",
      "============================\n",
      "Starting Urbanalize tests...\n",
      "============================\n",
      "\n",
      "\n",
      "==========================================\n",
      "Running test: test_natural_stats_valid_city\n",
      "==========================================\n",
      "\n",
      "Sub-test 1: Testing natural_stats for 'Rozzano'\n",
      "\n",
      "Thank you for using this function!\n",
      "Extracting natural statistics for the city of Rozzano might take a few minutes.\n",
      "\n",
      "Natural statistics for the city of Rozzano are ready:\n",
      "     type  area_km2  density (%)\n",
      "    scrub     0.667         2.69\n",
      "    water     0.523         2.11\n",
      " tree_row     0.140         0.56\n",
      "grassland     0.028         0.11\n",
      "\n",
      "Sub-test 1 passed: natural_stats executed without errors for 'Rozzano'.\n",
      "\n",
      "Sub-test 2: Testing natural_stats for 'Assago'\n",
      "\n",
      "Thank you for using this function!\n",
      "Extracting natural statistics for the city of Assago might take a few minutes.\n",
      "\n"
     ]
    },
    {
     "name": "stderr",
     "output_type": "stream",
     "text": [
      "."
     ]
    },
    {
     "name": "stdout",
     "output_type": "stream",
     "text": [
      "Natural statistics for the city of Assago are ready:\n",
      "    type  area_km2  density (%)\n",
      "   scrub     0.266         1.62\n",
      "   water     0.131         0.80\n",
      "tree_row     0.062         0.37\n",
      "    wood     0.046         0.28\n",
      "\n",
      "Sub-test 2 passed: natural_stats executed without errors for 'Assago'.\n",
      "\n",
      "Test natural_stats_valid_city passed!\n",
      "\n",
      "\n",
      "========================================\n",
      "Running test: test_road_stats_valid_city\n",
      "========================================\n",
      "\n",
      "Sub-test 1: Testing road_stats for 'Rozzano'\n",
      "\n",
      "Thank you for using this function!\n",
      "Extracting road statistics for the city of Rozzano might take a few minutes.\n",
      "\n",
      "Road statistics for the city of Rozzano are ready:\n",
      "      category  length (km)  density (km/km²)\n",
      "   residential         71.5             2.880\n",
      "      tertiary         21.7             0.874\n",
      "     secondary         13.6             0.548\n",
      "  unclassified         11.8             0.475\n",
      "       primary          7.5             0.303\n",
      " motorway_link          7.4             0.300\n",
      "      motorway          6.2             0.252\n",
      "secondary_link          1.3             0.053\n",
      "  primary_link          0.4             0.015\n",
      "\n",
      "Sub-test 1 passed: road_stats executed without errors for 'Rozzano'.\n",
      "\n",
      "Sub-test 2: Testing road_stats for 'Assago'\n",
      "\n",
      "Thank you for using this function!\n",
      "Extracting road statistics for the city of Assago might take a few minutes.\n",
      "\n"
     ]
    },
    {
     "name": "stderr",
     "output_type": "stream",
     "text": [
      ".\n",
      "----------------------------------------------------------------------\n",
      "Ran 2 tests in 13.475s\n",
      "\n",
      "OK\n"
     ]
    },
    {
     "name": "stdout",
     "output_type": "stream",
     "text": [
      "Road statistics for the city of Assago are ready:\n",
      "      category  length (km)  density (km/km²)\n",
      "  unclassified         31.4             1.904\n",
      "   residential         22.5             1.368\n",
      "     secondary          7.5             0.453\n",
      " motorway_link          4.4             0.264\n",
      "      tertiary          2.5             0.150\n",
      "      motorway          2.4             0.147\n",
      " living_street          0.4             0.022\n",
      "secondary_link          0.3             0.016\n",
      " tertiary_link          0.0             0.001\n",
      "\n",
      "Sub-test 2 passed: road_stats executed without errors for 'Assago'.\n",
      "\n",
      "Test road_stats_valid_city passed!\n",
      "\n",
      "\n",
      "=========================\n",
      "All tests completed.\n",
      "=========================\n"
     ]
    }
   ],
   "source": [
    "import unittest  # For creating and running unit tests\n",
    "import sys\n",
    "\n",
    "# 1. Adjust the path to include your library location\n",
    "# This allows importing the custom functions from the library\n",
    "sys.path.append(r\"../../Library\")\n",
    "\n",
    "# 2. Import the functions to be tested from the library\n",
    "from urbanalize import road_stats, natural_stats\n",
    "\n",
    "class TestUrbanalize(unittest.TestCase):\n",
    "    \"\"\"\n",
    "    Unit tests for Urbanalize library functions.\n",
    "    \"\"\"\n",
    "\n",
    "    # 3. Test road_stats with a valid city\n",
    "    def test_road_stats_valid_city(self):\n",
    "        \"\"\"\n",
    "        Test the road_stats function using valid city names.\n",
    "        \"\"\"\n",
    "        print(\"\\n========================================\")\n",
    "        print(\"Running test: test_road_stats_valid_city\")\n",
    "        print(\"========================================\\n\")\n",
    "        try:\n",
    "            # Sub-test 1: Check if the function runs without errors for Rozzano\n",
    "            print(\"Sub-test 1: Testing road_stats for 'Rozzano'\\n\")\n",
    "            road_stats(\"Rozzano\")\n",
    "            print(\"\\nSub-test 1 passed: road_stats executed without errors for 'Rozzano'.\\n\")\n",
    "\n",
    "            # Sub-test 2: Check if road_stats works for Assago\n",
    "            print(\"Sub-test 2: Testing road_stats for 'Assago'\\n\")\n",
    "            road_stats(\"Assago\")\n",
    "            print(\"\\nSub-test 2 passed: road_stats executed without errors for 'Assago'.\\n\")\n",
    "\n",
    "        except Exception as e:\n",
    "            # If an exception is raised, the test fails\n",
    "            self.fail(f\"road_stats raised an exception: {e}\")\n",
    "\n",
    "        print(\"Test road_stats_valid_city passed!\\n\")\n",
    "\n",
    "    # 4. Test natural_stats with a valid city\n",
    "    def test_natural_stats_valid_city(self):\n",
    "        \"\"\"\n",
    "        Test the natural_stats function using valid city names.\n",
    "        \"\"\"\n",
    "        print(\"\\n==========================================\")\n",
    "        print(\"Running test: test_natural_stats_valid_city\")\n",
    "        print(\"==========================================\\n\")\n",
    "        try:\n",
    "            # Sub-test 1: Check if the function runs without errors for Rozzano\n",
    "            print(\"Sub-test 1: Testing natural_stats for 'Rozzano'\\n\")\n",
    "            natural_stats(\"Rozzano\")\n",
    "            print(\"\\nSub-test 1 passed: natural_stats executed without errors for 'Rozzano'.\\n\")\n",
    "\n",
    "            # Sub-test 2: Check if natural_stats works for Assago\n",
    "            print(\"Sub-test 2: Testing natural_stats for 'Assago'\\n\")\n",
    "            natural_stats(\"Assago\")\n",
    "            print(\"\\nSub-test 2 passed: natural_stats executed without errors for 'Assago'.\\n\")\n",
    "\n",
    "        except Exception as e:\n",
    "            # If an exception is raised, the test fails\n",
    "            self.fail(f\"natural_stats raised an exception: {e}\")\n",
    "\n",
    "        print(\"Test natural_stats_valid_city passed!\\n\")\n",
    "\n",
    "if __name__ == \"__main__\":\n",
    "    # 5. Run all the tests in the suite\n",
    "    # Suppress command-line arguments and avoid exiting the interpreter after tests\n",
    "    print(\"\\n============================\")\n",
    "    print(\"Starting Urbanalize tests...\")\n",
    "    print(\"============================\\n\")\n",
    "    unittest.main(argv=[''], exit=False)\n",
    "    print(\"\\n=========================\")\n",
    "    print(\"All tests completed.\")\n",
    "    print(\"=========================\")"
   ]
  },
  {
   "cell_type": "markdown",
   "id": "9046efdd-b0d0-45a2-b43d-0f091b1a0329",
   "metadata": {},
   "source": [
    "#### Library code working check"
   ]
  },
  {
   "cell_type": "code",
   "execution_count": 162,
   "id": "1a5c5d9d-e20b-4cab-a432-ee76dcfa0204",
   "metadata": {
    "scrolled": true
   },
   "outputs": [
    {
     "name": "stdout",
     "output_type": "stream",
     "text": [
      "Thank you for using this function!\n",
      "Extracting road statistics for the city of Moneglia might take a few minutes.\n",
      "\n",
      "Road statistics for the city of Moneglia are ready:\n",
      "    category  length (km)  density (km/km²)\n",
      "    tertiary         35.5             1.185\n",
      " residential         27.2             0.908\n",
      "unclassified         19.9             0.666\n",
      "   secondary          8.9             0.297\n",
      "     primary          4.0             0.134\n",
      "        road          0.6             0.020\n"
     ]
    }
   ],
   "source": [
    "road_stats(\"Moneglia\")"
   ]
  },
  {
   "cell_type": "markdown",
   "id": "5979dd15-3851-4437-94af-88a2b7518502",
   "metadata": {},
   "source": [
    "#### Library import working check"
   ]
  },
  {
   "cell_type": "code",
   "execution_count": 171,
   "id": "ef246557-2403-4007-80e6-8c0a9060bd9a",
   "metadata": {},
   "outputs": [],
   "source": [
    "import sys\n",
    "sys.path.append(r\"../../Library/urbanalize.py\")\n",
    "from urbanalize import road_stats, natural_stats"
   ]
  },
  {
   "cell_type": "code",
   "execution_count": 172,
   "id": "771ba051-30ff-40c9-a096-9774292654be",
   "metadata": {
    "scrolled": true
   },
   "outputs": [
    {
     "name": "stdout",
     "output_type": "stream",
     "text": [
      "Thank you for using this function!\n",
      "Extracting natural statistics for the city of Lodi might take a few minutes.\n",
      "\n",
      "Natural statistics for the city of Lodi are ready:\n",
      "         type  area_km2  density (%)\n",
      "         wood    49.715         3.16\n",
      "        water    39.375         2.50\n",
      "    grassland    33.170         2.11\n",
      "        scrub    16.318         1.04\n",
      "         sand     9.235         0.59\n",
      "     tree_row     6.573         0.42\n",
      "      wetland     4.237         0.27\n",
      "        heath     3.153         0.20\n",
      "     riverbed     0.460         0.03\n",
      "          mud     0.460         0.03\n",
      "        beach     0.177         0.01\n",
      "      shingle     0.090         0.01\n",
      "        scree     0.037         0.00\n",
      "river_terrace     0.034         0.00\n",
      "   earth_bank     0.012         0.00\n",
      "        grass     0.009         0.00\n",
      "    bare_rock     0.006         0.00\n",
      "       garden     0.002         0.00\n"
     ]
    }
   ],
   "source": [
    "natural_stats(\"Lodi\")"
   ]
  }
 ],
 "metadata": {
  "kernelspec": {
   "display_name": "Python 3 (ipykernel)",
   "language": "python",
   "name": "python3"
  },
  "language_info": {
   "codemirror_mode": {
    "name": "ipython",
    "version": 3
   },
   "file_extension": ".py",
   "mimetype": "text/x-python",
   "name": "python",
   "nbconvert_exporter": "python",
   "pygments_lexer": "ipython3",
   "version": "3.12.6"
  }
 },
 "nbformat": 4,
 "nbformat_minor": 5
}
